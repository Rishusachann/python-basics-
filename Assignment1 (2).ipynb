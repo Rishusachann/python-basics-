{
  "nbformat": 4,
  "nbformat_minor": 0,
  "metadata": {
    "colab": {
      "provenance": []
    },
    "kernelspec": {
      "name": "python3",
      "display_name": "Python 3"
    },
    "language_info": {
      "name": "python"
    }
  },
  "cells": [
    {
      "cell_type": "markdown",
      "source": [
        "  **Python Basics Questions**\n",
        "  1. What is Python, and why is it popular\n",
        "   \n",
        "   - Python is a programing language, it is widely used also easy to learn and\n",
        "     huge number of library available for python.\n",
        "  \n",
        "  2. What is an interpreter in Python\n",
        "    \n",
        "    - Read code line by line.\n",
        "  \n",
        "  3. What are pre-defined keywords in Python\n",
        "   \n",
        "    - Reserved words that have predefined meanings & function.\n",
        "  \n",
        "  4. Can keywords be used as variable names\n",
        "    \n",
        "    - No.\n",
        "  \n",
        "  5. What is mutability in Python\n",
        "    \n",
        "    - Object's ability to be modified after it is created.\n",
        "  \n",
        "  6. Why are lists mutable, but tuples are immutable\n",
        "    \n",
        "    - Lists are mutable because they are designed to allow for changes in their content. tuples are immutable because their contents cannot be modified after initialization.\n",
        "  \n",
        "  7. What is the difference between “==” and “is” operators in Python\n",
        "    \n",
        "    - \"==\" is Equality Operator and \"is\" is Identity Operator.\n",
        "  \n",
        "  8. What are logical operators in Python\n",
        "   \n",
        "    - And, Or, Not\n",
        "  \n",
        "  9. What is type casting in Python.\n",
        "    \n",
        "    - changing a variable's data type to another.\n",
        "  \n",
        "  10. What is the difference between implicit and explicit type casting\n",
        "    \n",
        "    - Implicit type casting happens automatically by the compiler, while explicit type casting requires the programmer to define the conversion using specific syntax.\n",
        "  \n",
        "  11. What is the purpose of conditional statements in Python\n",
        "    \n",
        "    - Conditional statements in Python are used to execute certain blocks of code based on specific conditions.\n",
        "\n",
        "  12. How does the elif statement work.\n",
        "    \n",
        "    - The elif statement in Python allows for multiple conditions to be checked sequentially.\n",
        "  \n",
        "  13. What is the difference between for and while loops?\n",
        "    \n",
        "    - For loop is used to iterate over a sequence of items. While loop is used to repeatedly execute a block of statements while a condition is true.\n",
        "  \n",
        "    14. Describe a scenario where a while loop is more suitable than a for loop.\n",
        "\n",
        "     * when the number of iterations needed is not known in advance and depends on a specific condition being met.\n"
      ],
      "metadata": {
        "id": "hhDVBC9cHqxT"
      }
    },
    {
      "cell_type": "markdown",
      "source": [
        "**PRACTICAL QUESTIONS**"
      ],
      "metadata": {
        "id": "aziv2vB0HkGy"
      }
    },
    {
      "cell_type": "code",
      "execution_count": null,
      "metadata": {
        "colab": {
          "base_uri": "https://localhost:8080/"
        },
        "id": "DbaOlLWjHYb9",
        "outputId": "c94a04ec-49d9-47f7-b4d4-46951715e286"
      },
      "outputs": [
        {
          "output_type": "stream",
          "name": "stdout",
          "text": [
            "Hello World!\n"
          ]
        }
      ],
      "source": [
        "# question-1. write a python program to print \"hello world!\"\n",
        "print(\"Hello World!\")"
      ]
    },
    {
      "cell_type": "code",
      "source": [
        "# question-2. write a python program that display your name and age\n",
        "a=\"aman singh\"\n",
        "b= 22\n",
        "print(\"your name :__\" ,a)\n",
        "print(\"your age :__\" ,b)"
      ],
      "metadata": {
        "colab": {
          "base_uri": "https://localhost:8080/"
        },
        "id": "hsFfdpFkIMLz",
        "outputId": "cf9630ac-6a6c-49b2-f1b3-94fbe5ed9b05"
      },
      "execution_count": null,
      "outputs": [
        {
          "output_type": "stream",
          "name": "stdout",
          "text": [
            "your name :__ aman singh\n",
            "your age :__ 22\n"
          ]
        }
      ]
    },
    {
      "cell_type": "code",
      "source": [
        "# question-3. write code to print all the pre defined key words in phython using the keywords library\n",
        "help(\"keywords\")"
      ],
      "metadata": {
        "colab": {
          "base_uri": "https://localhost:8080/"
        },
        "id": "wzywkay9Ig4x",
        "outputId": "20350453-1db7-4a3e-9e24-ce38be98172b"
      },
      "execution_count": null,
      "outputs": [
        {
          "output_type": "stream",
          "name": "stdout",
          "text": [
            "\n",
            "Here is a list of the Python keywords.  Enter any keyword to get more help.\n",
            "\n",
            "False               class               from                or\n",
            "None                continue            global              pass\n",
            "True                def                 if                  raise\n",
            "and                 del                 import              return\n",
            "as                  elif                in                  try\n",
            "assert              else                is                  while\n",
            "async               except              lambda              with\n",
            "await               finally             nonlocal            yield\n",
            "break               for                 not                 \n",
            "\n"
          ]
        }
      ]
    },
    {
      "cell_type": "code",
      "source": [
        "# question-4. write the program to check the given keyword is python keywords or not\n",
        "import keyword\n",
        "word = input(\"Enter a word to check if it's a Python keyword: \")\n",
        "\n",
        "if keyword.iskeyword(word):\n",
        "    print(f\"'{word}' is a Python keyword.\")\n",
        "else:\n",
        "    print(f\"'{word}' is not a Python keyword.\")"
      ],
      "metadata": {
        "colab": {
          "base_uri": "https://localhost:8080/"
        },
        "id": "lrKSvC6HKPGO",
        "outputId": "e2d07845-3077-46dc-bfc5-540654e714ef"
      },
      "execution_count": null,
      "outputs": [
        {
          "output_type": "stream",
          "name": "stdout",
          "text": [
            "Enter a word to check if it's a Python keyword: else\n",
            "'else' is a Python keyword.\n"
          ]
        }
      ]
    },
    {
      "cell_type": "code",
      "source": [
        "# question-5. Create a list and tuple in Python, and demonstrate how attempting to change an element works differently for each\n",
        "my_list = [1,2,3,4,5,6,7,]\n",
        "my_list[2]=44\n",
        "\n",
        "my_tuple=(1,2,3,4,5,6,7,8)\n",
        "try:\n",
        "    my_tuple[2]=44\n",
        "except TypeError as e:\n",
        "  print(f\"error: {e}\")\n",
        "my_list\n",
        "my_tuple # this not execute bcz tuple object can not support assignment\n",
        "\n",
        "\n"
      ],
      "metadata": {
        "colab": {
          "base_uri": "https://localhost:8080/"
        },
        "id": "pTNYssiNLNpn",
        "outputId": "e835328c-ff9e-4933-91b6-7a95bc6d1aaf"
      },
      "execution_count": null,
      "outputs": [
        {
          "output_type": "stream",
          "name": "stdout",
          "text": [
            "error: 'tuple' object does not support item assignment\n"
          ]
        },
        {
          "output_type": "execute_result",
          "data": {
            "text/plain": [
              "(1, 2, 3, 4, 5, 6, 7, 8)"
            ]
          },
          "metadata": {},
          "execution_count": 12
        }
      ]
    },
    {
      "cell_type": "code",
      "source": [
        "# question-6.  Write a function to demonstrate the behavior of mutable and immutable arguments\n",
        "def modify_args(my_list, my_int):\n",
        "    my_list[0] = 100\n",
        "    my_int = 200\n",
        "    print(f\"Inside: List = {my_list}, Int = {my_int}\")\n",
        "\n",
        "\n",
        "test_list = [1, 2, 3]\n",
        "test_int = 10\n",
        "print(f\"Before: List = {test_list}, Int = {test_int}\")\n",
        "modify_args(test_list, test_int)\n",
        "print(f\"After: List = {test_list}, Int = {test_int}\")\n"
      ],
      "metadata": {
        "colab": {
          "base_uri": "https://localhost:8080/"
        },
        "id": "K9FN91JhQLSL",
        "outputId": "745b5f92-6e62-424a-a499-2204c4c164ce"
      },
      "execution_count": null,
      "outputs": [
        {
          "output_type": "stream",
          "name": "stdout",
          "text": [
            "Before: List = [1, 2, 3], Int = 10\n",
            "Inside: List = [100, 2, 3], Int = 200\n",
            "After: List = [100, 2, 3], Int = 10\n"
          ]
        }
      ]
    },
    {
      "cell_type": "code",
      "source": [
        "# question-7,  Write a program that performs basic arithmetic operations on two user-input numbers\n",
        "def all_arithmatic_operation():\n",
        "  try:\n",
        "     num1 = float(input(\"enter the first number :   \"))\n",
        "     num2 = float(input(\"enter the second number :   \"))\n",
        "     print(f\"addition of {num1} + {num2} = {num1+num2}\")\n",
        "     print(f\"substraction of {num1} - {num2} = {num1-num2}\")\n",
        "     print(f\"multiplication of {num1} * {num2} = {num1*num2}\")\n",
        "\n",
        "     if num2 != 0:\n",
        "      print(f\"division of {num1} / {num2} = {num1/num2}\")\n",
        "      print(f\"modulus of {num1} % {num2} = {num1%num2}\")\n",
        "      print(f\" floor division of {num1} // {num2} = {num1//num2}\")\n",
        "     else:\n",
        "      print(\"division , modulus , floor division is not possible bcz num2 is zero\")\n",
        "     print(f\"exponetiation: {num1}**{num2}={num1**num2}\")\n",
        "\n",
        "  except ValueError:\n",
        "    print(\"error:>> please enter valid number\")\n",
        "all_arithmatic_operation()\n"
      ],
      "metadata": {
        "colab": {
          "base_uri": "https://localhost:8080/"
        },
        "id": "p1OlWR14TFAW",
        "outputId": "2cc108b5-6eea-44f8-d059-466ec378b5f5"
      },
      "execution_count": null,
      "outputs": [
        {
          "output_type": "stream",
          "name": "stdout",
          "text": [
            "enter the first number :   2\n",
            "enter the second number :   3\n",
            "addition of 2.0 + 3.0 = 5.0\n",
            "substraction of 2.0 - 3.0 = -1.0\n",
            "multiplication of 2.0 * 3.0 = 6.0\n",
            "division of 2.0 / 3.0 = 0.6666666666666666\n",
            "modulus of 2.0 % 3.0 = 2.0\n",
            " floor division of 2.0 // 3.0 = 0.0\n",
            "exponetiation: 2.0**3.0=8.0\n"
          ]
        }
      ]
    },
    {
      "cell_type": "code",
      "source": [
        "# question-8. Write a program to demonstrate the use of logical operators.\n",
        "def logical_operators():\n",
        "    try:\n",
        "\n",
        "        num1 = float(input(\"Enter first number: \"))\n",
        "        num2 = float(input(\"Enter second number: \"))\n",
        "\n",
        "        # Conditions using logical operators\n",
        "        both_positive = num1 > 0 and num2 > 0\n",
        "        one_even = num1 % 2 == 0 or num2 % 2 == 0\n",
        "        not_zero = not (num1 == 0)\n",
        "\n",
        "\n",
        "        print(f\"Both numbers are positive: {both_positive}\")\n",
        "        print(f\"At least one number is even: {one_even}\")\n",
        "        print(f\"First number is not zero: {not_zero}\")\n",
        "\n",
        "    except ValueError:\n",
        "        print(\"Error: Please enter valid numbers.\")\n",
        "\n",
        "logical_operators()"
      ],
      "metadata": {
        "colab": {
          "base_uri": "https://localhost:8080/"
        },
        "id": "hoVoT8M4W4aS",
        "outputId": "8359df1a-94ba-47e2-edf0-694f3ff0bf3a"
      },
      "execution_count": null,
      "outputs": [
        {
          "output_type": "stream",
          "name": "stdout",
          "text": [
            "Enter first number: 40\n",
            "Enter second number: 71\n",
            "Both numbers are positive: True\n",
            "At least one number is even: True\n",
            "First number is not zero: True\n"
          ]
        }
      ]
    },
    {
      "cell_type": "code",
      "source": [
        "# question-9.  Write a Python program to convert user input from string to integer, float, and boolean types\n",
        "def convert_input():\n",
        "    try:\n",
        "        # Get user input\n",
        "        user_input = input(\"Enter a value: \")\n",
        "\n",
        "        # Convert to integer\n",
        "        try:\n",
        "            int_value = int(user_input)\n",
        "            print(f\"Integer: {int_value}\")\n",
        "        except ValueError:\n",
        "            print(\"Integer: Cannot convert to integer (invalid input)\")\n",
        "\n",
        "        # Convert to float\n",
        "        try:\n",
        "            float_value = float(user_input)\n",
        "            print(f\"Float: {float_value}\")\n",
        "        except ValueError:\n",
        "            print(\"Float: Cannot convert to float (invalid input)\")\n",
        "\n",
        "        # Convert to boolean\n",
        "\n",
        "        bool_value = user_input.lower() in (\"true\", \"1\", \"t\", \"yes\", \"y\")\n",
        "        print(f\"Boolean: {bool_value}\")\n",
        "\n",
        "    except Exception as e:\n",
        "        print(f\"Error: An unexpected issue occurred - {e}\")\n",
        "\n",
        "convert_input()"
      ],
      "metadata": {
        "colab": {
          "base_uri": "https://localhost:8080/"
        },
        "id": "4GlpUEs5YZ0m",
        "outputId": "fa51c4c8-3872-49be-9491-0d151e1c8740"
      },
      "execution_count": null,
      "outputs": [
        {
          "output_type": "stream",
          "name": "stdout",
          "text": [
            "Enter a value: qw2e\n",
            "Integer: Cannot convert to integer (invalid input)\n",
            "Float: Cannot convert to float (invalid input)\n",
            "Boolean: False\n"
          ]
        }
      ]
    },
    {
      "cell_type": "code",
      "source": [
        "# question-10. Write code to demonstrate type casting with list elements\n",
        "def cast_list_elements():\n",
        "\n",
        "    mixed_list = [\"123\", \"45.67\", \"true\", \"abc\", 42]\n",
        "    print(\"Original list:\", mixed_list)\n",
        "\n",
        "    # Convert to integers (where possible)\n",
        "    int_list = []\n",
        "    for item in mixed_list:\n",
        "        try:\n",
        "            int_list.append(int(item))\n",
        "        except (ValueError, TypeError):\n",
        "            int_list.append(None)  # Use None for failed conversions\n",
        "    print(\"Converted to integers:\", int_list)\n",
        "\n",
        "    # Convert to floats (where possible)\n",
        "    float_list = []\n",
        "    for item in mixed_list:\n",
        "        try:\n",
        "            float_list.append(float(item))\n",
        "        except (ValueError, TypeError):\n",
        "            float_list.append(None)\n",
        "    print(\"Converted to floats:\", float_list)\n",
        "\n",
        "    # Convert to strings\n",
        "    str_list = [str(item) for item in mixed_list]\n",
        "    print(\"Converted to strings:\", str_list)\n",
        "\n",
        "\n",
        "cast_list_elements()"
      ],
      "metadata": {
        "colab": {
          "base_uri": "https://localhost:8080/"
        },
        "id": "scKMHHkUZY5L",
        "outputId": "a7c1ebe3-998d-4314-ad1f-5b8227965a36"
      },
      "execution_count": null,
      "outputs": [
        {
          "output_type": "stream",
          "name": "stdout",
          "text": [
            "Original list: ['123', '45.67', 'true', 'abc', 42]\n",
            "Converted to integers: [123, None, None, None, 42]\n",
            "Converted to floats: [123.0, 45.67, None, None, 42.0]\n",
            "Converted to strings: ['123', '45.67', 'true', 'abc', '42']\n"
          ]
        }
      ]
    },
    {
      "cell_type": "code",
      "source": [
        "# question-11.  Write a program that checks if a number is positive, negative, or zero.\n",
        "num = float(input(\"enter the number \"))\n",
        "if num > 0:\n",
        "  print(\"number is positive\")\n",
        "elif num < 0:\n",
        "  print(\"number is negative\")\n",
        "else:\n",
        "  print(\"number is zero\")"
      ],
      "metadata": {
        "colab": {
          "base_uri": "https://localhost:8080/"
        },
        "id": "kTEUqVntayX_",
        "outputId": "750881a7-24d5-41dd-a822-4fcb40abef2e"
      },
      "execution_count": null,
      "outputs": [
        {
          "output_type": "stream",
          "name": "stdout",
          "text": [
            "enter the number -2\n",
            "number is negative\n"
          ]
        }
      ]
    },
    {
      "cell_type": "code",
      "source": [
        "# question-12. Write a for loop to print numbers from 1 to 10.\n",
        "for i in range(1,11):\n",
        "  print(i)"
      ],
      "metadata": {
        "colab": {
          "base_uri": "https://localhost:8080/"
        },
        "id": "A_8PY3xTcAKx",
        "outputId": "73eaeeea-2f37-45ec-e1bf-8c97c8846412"
      },
      "execution_count": null,
      "outputs": [
        {
          "output_type": "stream",
          "name": "stdout",
          "text": [
            "1\n",
            "2\n",
            "3\n",
            "4\n",
            "5\n",
            "6\n",
            "7\n",
            "8\n",
            "9\n",
            "10\n"
          ]
        }
      ]
    },
    {
      "cell_type": "code",
      "source": [
        "# question-13. Write a Python program to find the sum of all even numbers between 1 and 50.\n",
        "total = 0\n",
        "for i in range(2,51,2):\n",
        "  total += i\n",
        "print(total)"
      ],
      "metadata": {
        "colab": {
          "base_uri": "https://localhost:8080/"
        },
        "id": "qTn3uXxbcVwd",
        "outputId": "6c364fd1-7adb-4664-b84f-747f01241e8f"
      },
      "execution_count": null,
      "outputs": [
        {
          "output_type": "stream",
          "name": "stdout",
          "text": [
            "650\n"
          ]
        }
      ]
    },
    {
      "cell_type": "code",
      "source": [
        "# question-14.  Write a program to reverse a string using a while loop.\n",
        "your_string = input(\"enter the string : \")\n",
        "reversed_string =\"\"\n",
        "index = len(your_string) - 1\n",
        "while index >= 0:\n",
        "  reversed_string += your_string[index]\n",
        "  index -= 1\n",
        "  print(f\"reversed string {reversed_string}\")"
      ],
      "metadata": {
        "colab": {
          "base_uri": "https://localhost:8080/"
        },
        "id": "GLZETcjJd7fC",
        "outputId": "4d2f1807-3d77-4fab-b3b6-f84db20b00c4"
      },
      "execution_count": null,
      "outputs": [
        {
          "output_type": "stream",
          "name": "stdout",
          "text": [
            "enter the string : aman\n",
            "reversed string n\n",
            "reversed string na\n",
            "reversed string nam\n",
            "reversed string nama\n"
          ]
        }
      ]
    },
    {
      "cell_type": "code",
      "source": [
        "# question-15. Write a Python program to calculate the factorial of a number provided by the user using a while loop\n",
        "def calculate_factorial():\n",
        "    try:\n",
        "        # Get user input\n",
        "        num = int(input(\"Enter a non-negative integer: \"))\n",
        "\n",
        "        # Validate input\n",
        "        if num < 0:\n",
        "            print(\"Error: Factorial is not defined for negative numbers.\")\n",
        "            return\n",
        "\n",
        "        # Calculate factorial using while loop\n",
        "        factorial = 1\n",
        "        counter = num\n",
        "        while counter > 0:\n",
        "            factorial *= counter\n",
        "            counter -= 1\n",
        "\n",
        "        # Output result\n",
        "        print(f\"Factorial of {num} is: {factorial}\")\n",
        "\n",
        "    except ValueError:\n",
        "        print(\"Error: Please enter a valid integer.\")\n",
        "\n",
        "# Run the program\n",
        "calculate_factorial()"
      ],
      "metadata": {
        "colab": {
          "base_uri": "https://localhost:8080/"
        },
        "id": "HxsP9ufde-XA",
        "outputId": "af1fb5d2-c42e-4944-8a66-6623cc8728d1"
      },
      "execution_count": null,
      "outputs": [
        {
          "output_type": "stream",
          "name": "stdout",
          "text": [
            "Enter a non-negative integer: 4\n",
            "Factorial of 4 is: 24\n"
          ]
        }
      ]
    },
    {
      "cell_type": "code",
      "source": [],
      "metadata": {
        "id": "YnDb8l16gB0Q"
      },
      "execution_count": null,
      "outputs": []
    }
  ]
}